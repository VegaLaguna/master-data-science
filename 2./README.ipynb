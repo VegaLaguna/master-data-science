{
 "cells": [
  {
   "cell_type": "markdown",
   "metadata": {},
   "source": [
    "# Ejercicios de introducción a Python\n",
    "\n",
    "## Funciones"
   ]
  },
  {
   "cell_type": "markdown",
   "metadata": {},
   "source": [
    "1. Implementa una función que tome 3 variables y devuelva la mayor entre ellas. \n",
    "    - Hacerlo sin usar la función de Python llamada max().\n",
    "    - Hacer una versión sin variables locales y otra con una variable local."
   ]
  },
  {
   "cell_type": "code",
   "execution_count": 2,
   "metadata": {},
   "outputs": [],
   "source": [
    "# Las funciones se declaran usando el comando def()\n",
    "# Cada función puede tener variables (positional argument) y/o valores predefinidos (keyword argument)\n",
    "\n",
    "def mayor_de_tres(a,b,c):\n",
    "    if a > b and a > c:\n",
    "        return a\n",
    "    elif b > a and b > c:\n",
    "        return b\n",
    "    else:\n",
    "        return c"
   ]
  },
  {
   "cell_type": "code",
   "execution_count": 8,
   "metadata": {},
   "outputs": [
    {
     "data": {
      "text/plain": [
       "50"
      ]
     },
     "execution_count": 8,
     "metadata": {},
     "output_type": "execute_result"
    }
   ],
   "source": [
    "# Vamos a probar la función con los siguientes valores: a=3, b=50, c=8\n",
    "# En este caso no hemos tenido que crear ninguna variable local.\n",
    "\n",
    "mayor_de_tres(3,50,8)"
   ]
  },
  {
   "cell_type": "code",
   "execution_count": 17,
   "metadata": {},
   "outputs": [],
   "source": [
    "# Vamos a definir la función creando una variable local.\n",
    "\n",
    "def mayor_de_tres_bis(a,b,c):\n",
    "    max_valor = a\n",
    "    if max_valor < b:\n",
    "        max_valor = b\n",
    "    if max_valor < c:\n",
    "            max_valor = c\n",
    "        \n",
    "    return max_valor"
   ]
  },
  {
   "cell_type": "code",
   "execution_count": 20,
   "metadata": {},
   "outputs": [
    {
     "data": {
      "text/plain": [
       "50"
      ]
     },
     "execution_count": 20,
     "metadata": {},
     "output_type": "execute_result"
    }
   ],
   "source": [
    "mayor_de_tres_bis(3,50,8)\n"
   ]
  },
  {
   "cell_type": "code",
   "execution_count": null,
   "metadata": {},
   "outputs": [],
   "source": []
  },
  {
   "cell_type": "markdown",
   "metadata": {},
   "source": [
    "2. Escribe la función \"centenario\" que tomará un nombre y una año de nacimiento como inputs. \n",
    "    - Comprueba si el año de nacimiento es un entero o no.\n",
    "    - Escribe una salida donde aparezca el nombre junto con un texto explicando cuando será el centenario de dicha persona."
   ]
  },
  {
   "cell_type": "code",
   "execution_count": 26,
   "metadata": {},
   "outputs": [],
   "source": [
    "def centenario(nombre,anyo):\n",
    "    \n",
    "    if not isinstance(anyo,int):\n",
    "        anyo=int(anyo)\n",
    "    \n",
    "    return \"%s llegará a los 100 años en el %d\" %(nombre,anyo+100)\n",
    "    "
   ]
  },
  {
   "cell_type": "code",
   "execution_count": 27,
   "metadata": {},
   "outputs": [
    {
     "data": {
      "text/plain": [
       "'Vega llegará a los 100 años en el 2092'"
      ]
     },
     "execution_count": 27,
     "metadata": {},
     "output_type": "execute_result"
    }
   ],
   "source": [
    "centenario(\"Vega\",1992)"
   ]
  }
 ],
 "metadata": {
  "kernelspec": {
   "display_name": "Python 3",
   "language": "python",
   "name": "python3"
  },
  "language_info": {
   "codemirror_mode": {
    "name": "ipython",
    "version": 3
   },
   "file_extension": ".py",
   "mimetype": "text/x-python",
   "name": "python",
   "nbconvert_exporter": "python",
   "pygments_lexer": "ipython3",
   "version": "3.7.1"
  }
 },
 "nbformat": 4,
 "nbformat_minor": 2
}
