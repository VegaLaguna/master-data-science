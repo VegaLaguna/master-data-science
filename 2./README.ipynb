{
 "cells": [
  {
   "cell_type": "markdown",
   "metadata": {},
   "source": [
    "# Ejercicios de introducción a Python\n",
    "\n",
    "## Funciones"
   ]
  },
  {
   "cell_type": "markdown",
   "metadata": {},
   "source": [
    "1. Implementa una función que tome 3 variables y devuelva la mayor entre ellas. \n",
    "    - Hacerlo sin usar la función de Python llamada max().\n",
    "    - Hacer una versión sin variables locales y otra con una variable local."
   ]
  },
  {
   "cell_type": "code",
   "execution_count": 1,
   "metadata": {},
   "outputs": [],
   "source": [
    "# Las funciones se declaran usando el comando def()\n",
    "# Cada función puede tener variables (positional argument) y/o valores predefinidos (keyword argument)\n",
    "\n",
    "def mayor_de_tres(a,b,c):\n",
    "    if a > b and a > c:\n",
    "        return a\n",
    "    elif b > a and b > c:\n",
    "        return b\n",
    "    else:\n",
    "        return c"
   ]
  },
  {
   "cell_type": "code",
   "execution_count": 2,
   "metadata": {},
   "outputs": [
    {
     "data": {
      "text/plain": [
       "50"
      ]
     },
     "execution_count": 2,
     "metadata": {},
     "output_type": "execute_result"
    }
   ],
   "source": [
    "# Vamos a probar la función con los siguientes valores: a=3, b=50, c=8\n",
    "# En este caso no hemos tenido que crear ninguna variable local.\n",
    "\n",
    "mayor_de_tres(3,50,8)"
   ]
  },
  {
   "cell_type": "code",
   "execution_count": 3,
   "metadata": {},
   "outputs": [],
   "source": [
    "# Vamos a definir la función creando una variable local.\n",
    "\n",
    "def mayor_de_tres_bis(a,b,c):\n",
    "    max_valor = a\n",
    "    if max_valor < b:\n",
    "        max_valor = b\n",
    "    if max_valor < c:\n",
    "            max_valor = c\n",
    "        \n",
    "    return max_valor"
   ]
  },
  {
   "cell_type": "code",
   "execution_count": 4,
   "metadata": {},
   "outputs": [
    {
     "data": {
      "text/plain": [
       "50"
      ]
     },
     "execution_count": 4,
     "metadata": {},
     "output_type": "execute_result"
    }
   ],
   "source": [
    "mayor_de_tres_bis(3,50,8)\n"
   ]
  },
  {
   "cell_type": "code",
   "execution_count": null,
   "metadata": {},
   "outputs": [],
   "source": []
  },
  {
   "cell_type": "markdown",
   "metadata": {},
   "source": [
    "2. Escribe la función \"centenario\" que tomará un nombre y una año de nacimiento como inputs. \n",
    "    - Comprueba si el año de nacimiento es un entero o no.\n",
    "    - Escribe una salida donde aparezca el nombre junto con un texto explicando cuando será el centenario de dicha persona."
   ]
  },
  {
   "cell_type": "code",
   "execution_count": 5,
   "metadata": {},
   "outputs": [],
   "source": [
    "def centenario(nombre,anyo):\n",
    "    \n",
    "    if not isinstance(anyo,int):\n",
    "        anyo=int(anyo)\n",
    "    \n",
    "    return \"%s llegará a los 100 años en el %d\" %(nombre,anyo+100)\n",
    "    "
   ]
  },
  {
   "cell_type": "code",
   "execution_count": 6,
   "metadata": {},
   "outputs": [
    {
     "data": {
      "text/plain": [
       "'Vega llegará a los 100 años en el 2092'"
      ]
     },
     "execution_count": 6,
     "metadata": {},
     "output_type": "execute_result"
    }
   ],
   "source": [
    "centenario(\"Vega\",1992)"
   ]
  },
  {
   "cell_type": "code",
   "execution_count": null,
   "metadata": {},
   "outputs": [],
   "source": []
  },
  {
   "cell_type": "markdown",
   "metadata": {},
   "source": [
    "## Tipos de datos escalares\n",
    "\n",
    "Los tipos de datos son el conjunto de valores que un objeto puede tomar. Los datos de tipo escalar pueden ser:\n",
    "- Números enteros (int)\n",
    "- Números flotantes o con decimales (float)\n",
    "- Lógicos o booleanos: True o False"
   ]
  },
  {
   "cell_type": "markdown",
   "metadata": {},
   "source": [
    "3. Escribe una función que calcule el número de líneas, número de palabras y longitud de un string de la misma manera que lo hace el comando \"wc\" en la línea de comandos. "
   ]
  },
  {
   "cell_type": "code",
   "execution_count": 7,
   "metadata": {},
   "outputs": [],
   "source": [
    "def nuevo_wc(cadena):\n",
    "    \n",
    "    '''El comando wc en la línea de comando devuelve las líneas, \n",
    "    palabras y caracteres del archivo al que se le aplique.\n",
    "    Esta función va a devolver estos mismos parámetros'''\n",
    "    \n",
    "    #Tenemos que sacar cuántas letras tiene la cadena de texto que hemos metido.\n",
    "    numero_letras=0\n",
    "    for n in cadena:\n",
    "        numero_letras+=1\n",
    "    \n",
    "    # Vamos a contar cuantas palabras hay.\n",
    "    palabras_por_separado = cadena.split(\" \")\n",
    "    numero_palabras = len(palabras_por_separado)\n",
    "    \n",
    "    # Ahora vamos a ver cuántas líneas tiene.\n",
    "    lineas_por_separado = cadena.split(\"\\n\")\n",
    "    numero_lineas = len(lineas_por_separado)\n",
    "    \n",
    "    return numero_letras,numero_palabras,numero_lineas\n"
   ]
  },
  {
   "cell_type": "code",
   "execution_count": 8,
   "metadata": {},
   "outputs": [
    {
     "data": {
      "text/plain": [
       "(394, 68, 6)"
      ]
     },
     "execution_count": 8,
     "metadata": {},
     "output_type": "execute_result"
    }
   ],
   "source": [
    "cadena = '''En un lugar de la Mancha, de cuyo nombre no quiero acordarme, no \\nha mucho tiempo que vivía un hidalgo de los de lanza en astillero, \\nadarga antigua, rocín flaco y galgo corredor. Una olla de algo más vaca \\nque carnero, salpicón las más noches, duelos y quebrantos los \\nsábados, lantejas los viernes, algún palomino de añadidura los \\ndomingos, consumían las tres cuartas partes de su hacienda. '''\n",
    "\n",
    "nuevo_wc(cadena)"
   ]
  },
  {
   "cell_type": "code",
   "execution_count": null,
   "metadata": {},
   "outputs": [],
   "source": []
  },
  {
   "cell_type": "markdown",
   "metadata": {},
   "source": [
    "4. Escribe un programa que quite el elemento \"n\"avo de un string.\n",
    "Si el string está vacío tiene que aparecer un warning."
   ]
  },
  {
   "cell_type": "code",
   "execution_count": 9,
   "metadata": {},
   "outputs": [],
   "source": [
    "def quito_n_avo(mi_string,n):\n",
    "    \n",
    "    if not mi_string:\n",
    "        print(\"El string está vacío\")\n",
    "       \n",
    "    else:\n",
    "        primera_parte = mi_string[:n-1]\n",
    "        ultima_parte = mi_string[n:]\n",
    "        \n",
    "    return primera_parte+ultima_parte"
   ]
  },
  {
   "cell_type": "code",
   "execution_count": 10,
   "metadata": {},
   "outputs": [
    {
     "data": {
      "text/plain": [
       "'12346789'"
      ]
     },
     "execution_count": 10,
     "metadata": {},
     "output_type": "execute_result"
    }
   ],
   "source": [
    "mi_string = \"123456789\"\n",
    "\n",
    "quito_n_avo(mi_string,5)\n"
   ]
  },
  {
   "cell_type": "code",
   "execution_count": null,
   "metadata": {},
   "outputs": [],
   "source": []
  },
  {
   "cell_type": "markdown",
   "metadata": {},
   "source": [
    "## Tipos de datos estructurados\n",
    "\n",
    "Pueden ser: \n",
    "- Listas (list): secuencias ordenadas de valores\n",
    "- Tuplas (tuple): secuencias inmutables de valores ordenados\n",
    "- Diccionarios (dictionaries): conjunto no ordenado de pares de valores que tienen una \"llave\" que los identifica (key & value)\n",
    "- Conjuntos (set): conjunto no ordenado de valores, como los diccionarios pero sin \"llaves\", solo con valores"
   ]
  },
  {
   "cell_type": "markdown",
   "metadata": {},
   "source": [
    "5.  Dada la secuencia [1,2,3,4,5,6,7,8] obtén sus cuadrados usando la función lambda."
   ]
  },
  {
   "cell_type": "code",
   "execution_count": 17,
   "metadata": {},
   "outputs": [
    {
     "name": "stdout",
     "output_type": "stream",
     "text": [
      "[1, 4, 9, 16, 25, 36, 49, 64]\n"
     ]
    }
   ],
   "source": [
    "secuencia = [1,2,3,4,5,6,7,8]\n",
    "\n",
    "# La función \"map\" es una built-in function que aplica una función dada a un conjunto de valores\n",
    "\n",
    "secuencia_cuadrada = list(map(lambda x:x**2,secuencia))\n",
    "\n",
    "\n",
    "print(secuencia_cuadrada)"
   ]
  },
  {
   "cell_type": "markdown",
   "metadata": {},
   "source": [
    "6. Prepara una lista con 10 nombres. Escribe un código que cambie todas las vocales a mayúsculas y todas las demás letras en minúsculas."
   ]
  },
  {
   "cell_type": "code",
   "execution_count": 27,
   "metadata": {},
   "outputs": [
    {
     "data": {
      "text/plain": [
       "'VEGA'"
      ]
     },
     "execution_count": 27,
     "metadata": {},
     "output_type": "execute_result"
    }
   ],
   "source": [
    "vega=\"Vega\"\n",
    "vega.upper()"
   ]
  },
  {
   "cell_type": "code",
   "execution_count": 54,
   "metadata": {},
   "outputs": [
    {
     "name": "stdout",
     "output_type": "stream",
     "text": [
      "['frAncIscO', 'dIEgO', 'AlvArO', 'EvA', 'IsAbEl', 'rAqUEl', 'jAvIEr', 'jUAn', 'cArlOs', 'AlbErtO']\n"
     ]
    }
   ],
   "source": [
    "mis_nombres = [\"Francisco\", \"Diego\", \"Alvaro\", \"Eva\", \"Isabel\", \"Raquel\", \"Javier\", \"Juan\", \"Carlos\", \"Alberto\"]\n",
    "\n",
    "vocales = [\"a\",\"e\",\"i\",\"o\",\"u\",\"A\",\"E\",\"I\",\"O\",\"U\"]\n",
    "nuevos_nombres = []\n",
    "\n",
    "for nombre in mis_nombres:\n",
    "    nuevo_nombre = \"\"\n",
    "    for letra in nombre:   \n",
    "        if letra in vocales:\n",
    "            nuevo_nombre = nuevo_nombre + letra.upper()\n",
    "        else:\n",
    "            nuevo_nombre = nuevo_nombre + letra.lower()\n",
    "    \n",
    "    nuevos_nombres.append(nuevo_nombre)\n",
    "\n",
    "print(nuevos_nombres)\n",
    "             "
   ]
  },
  {
   "cell_type": "code",
   "execution_count": null,
   "metadata": {},
   "outputs": [],
   "source": []
  },
  {
   "cell_type": "markdown",
   "metadata": {},
   "source": [
    "7. Vuelve a escribir una lista con 10 nombres. Crea una función cuyo input sean dos variables \"lista\" y \"letra\" y que devuelva una lista de los nombres que contengan una o más veces la letra pedida."
   ]
  },
  {
   "cell_type": "code",
   "execution_count": 55,
   "metadata": {},
   "outputs": [
    {
     "data": {
      "text/plain": [
       "['Francisco', 'Carlos']"
      ]
     },
     "execution_count": 55,
     "metadata": {},
     "output_type": "execute_result"
    }
   ],
   "source": [
    "def contiene_letra(lista,letra):\n",
    "    nueva_lista=[]\n",
    "    for nombre in lista:\n",
    "        if letra.lower() in nombre or letra.upper() in nombre:\n",
    "            nueva_lista.append(nombre)\n",
    "    \n",
    "    return nueva_lista\n",
    "\n",
    "contiene_letra(mis_nombres,\"C\")"
   ]
  },
  {
   "cell_type": "code",
   "execution_count": null,
   "metadata": {},
   "outputs": [],
   "source": []
  },
  {
   "cell_type": "markdown",
   "metadata": {},
   "source": [
    "8. Devuelve el orden de las palabras a la inversa."
   ]
  },
  {
   "cell_type": "code",
   "execution_count": 68,
   "metadata": {},
   "outputs": [
    {
     "name": "stdout",
     "output_type": "stream",
     "text": [
      "prueba de frase mi es Esta\n"
     ]
    }
   ],
   "source": [
    "mi_frase = \"Esta es mi frase de prueba\"\n",
    "\n",
    "lista_mi_frase = mi_frase.split(\" \")\n",
    "\n",
    "mi_nueva_frase = \" \".join(lista_mi_frase[::-1])\n",
    "\n",
    "print(mi_nueva_frase)"
   ]
  },
  {
   "cell_type": "code",
   "execution_count": null,
   "metadata": {},
   "outputs": [],
   "source": []
  },
  {
   "cell_type": "markdown",
   "metadata": {},
   "source": [
    "9. Crea una función que acepte un string y devuelva el número de líneas donde aparece ese string en un historial de comandos.\n"
   ]
  },
  {
   "cell_type": "code",
   "execution_count": 71,
   "metadata": {},
   "outputs": [
    {
     "data": {
      "text/plain": [
       "45"
      ]
     },
     "execution_count": 71,
     "metadata": {},
     "output_type": "execute_result"
    }
   ],
   "source": [
    "# Para ver el historial de comandos en Jupyter Notebook usamos \"_ih\"\n",
    "\n",
    "def lineas_historial(comando):\n",
    "    contador_lineas = 0\n",
    "    for n in _ih:\n",
    "        if comando in n:\n",
    "            contador_lineas += 1\n",
    "    return contador_lineas\n",
    "\n",
    "lineas_historial(\"print\")\n",
    "        "
   ]
  },
  {
   "cell_type": "code",
   "execution_count": null,
   "metadata": {},
   "outputs": [],
   "source": []
  },
  {
   "cell_type": "markdown",
   "metadata": {},
   "source": [
    "10. Escribe una función que tome una lista de palabras y devuelva la longitud de la más larga."
   ]
  },
  {
   "cell_type": "code",
   "execution_count": 46,
   "metadata": {},
   "outputs": [
    {
     "name": "stdout",
     "output_type": "stream",
     "text": [
      "La palabra más larga de esta lista tiene 8 letras.\n"
     ]
    }
   ],
   "source": [
    "lista_palabras = [\"botella\",\"arbol\",\"libro\",\"cafetera\"]\n",
    "\n",
    "for elem in lista_palabras:\n",
    "    palabra_mas_larga = lista_palabras[0]\n",
    "    \n",
    "    if len(elem) >= len(palabra_mas_larga):\n",
    "        palabra_mas_larga = elem\n",
    "    \n",
    "print(\"La palabra más larga de esta lista tiene %d letras.\" %len(palabra_mas_larga))"
   ]
  },
  {
   "cell_type": "code",
   "execution_count": null,
   "metadata": {},
   "outputs": [],
   "source": []
  },
  {
   "cell_type": "markdown",
   "metadata": {},
   "source": [
    "## Manejor de ficheros\n",
    "\n",
    "11. Dentro de Python, ir a ~/Data/opentraveldata/ y listar los archivos. Repetir la misma acción para /home/dsc/Data/us_dot/otp y ~/Data/us_dot/traffic/. Tomar la lista de directorios visitados con \"dhist\" y escribir un loop que devuelva el nombre y el número de ficheros para cada directorio."
   ]
  },
  {
   "cell_type": "code",
   "execution_count": 1,
   "metadata": {},
   "outputs": [
    {
     "name": "stdout",
     "output_type": "stream",
     "text": [
      "/home/dsc/Repos/master-data-science/2.\r\n"
     ]
    }
   ],
   "source": [
    "# Primero miro en qué directorio estoy trabajando.\n",
    "! pwd"
   ]
  },
  {
   "cell_type": "code",
   "execution_count": 8,
   "metadata": {
    "scrolled": true
   },
   "outputs": [
    {
     "name": "stdout",
     "output_type": "stream",
     "text": [
      "/home/dsc/Data/opentraveldata\n",
      "total 8088\r\n",
      "-rw-rw-r-- 1 dsc dsc     165 abr 12 21:33  column_name_number2.sh\r\n",
      "-rwxrwxrwx 1 dsc dsc     168 abr 12 21:30  \u001b[0m\u001b[01;32mcolumn_name_number.sh\u001b[0m*\r\n",
      "-rw-rw-r-- 1 dsc dsc     225 abr 13 09:33  create_table.sql\r\n",
      "-rw-rw-r-- 1 dsc dsc      18 abr  6 12:36  file_hello.txt\r\n",
      "-rw-rw-r-- 1 dsc dsc      42 abr 22 21:43  numbers\r\n",
      "-rw-rw-r-- 1 dsc dsc   18612 abr 12 18:38  optd_aircraft_2.csv\r\n",
      "-rw-rw-r-- 1 dsc dsc   18612 abr  2  2018  optd_aircraft.csv\r\n",
      "-rw-rw-r-- 1 dsc dsc  107306 abr  2  2018  optd_airlines.csv\r\n",
      "-rw-rw-r-- 1 dsc dsc 8080005 abr  2  2018  optd_por_public.csv\r\n",
      "-rw-r--r-- 1 dsc dsc    5980 abr 13 09:28 'q'$'\\033\\033\\033''q'\r\n",
      "-rw-rw-r-- 1 dsc dsc    5816 abr  2  2018  ref_airline_nb_of_flights.csv\r\n",
      "-rw-rw-r-- 1 dsc dsc     175 abr 20 19:57  three_largest_files.txt\r\n",
      "-rw-rw-r-- 1 dsc dsc     173 abr  6 12:54  three_largest_file.txt\r\n",
      "-rw-rw-r-- 1 dsc dsc      31 abr 12 17:32  uniq_example.txt\r\n"
     ]
    }
   ],
   "source": [
    "# Uso el Magic command % para moverme de directorio.\n",
    "%cd ~/Data/opentraveldata\n",
    "\n",
    "# Una vez en él, listo los archivos\n",
    "%ls -l\n"
   ]
  },
  {
   "cell_type": "code",
   "execution_count": 9,
   "metadata": {},
   "outputs": [
    {
     "name": "stdout",
     "output_type": "stream",
     "text": [
      "/home/dsc/Data/us_dot/otp\n",
      "total 29664\r\n",
      "-rw-rw-r-- 1 dsc dsc 30373413 mar 28 15:38 \u001b[0m\u001b[01;31mOn_Time_Reporting_Carrier_On_Time_Performance_1987_present_2018_12.zip\u001b[0m\u001b[K\r\n"
     ]
    }
   ],
   "source": [
    "%cd /home/dsc/Data/us_dot/otp\n",
    "%ls -l"
   ]
  },
  {
   "cell_type": "code",
   "execution_count": 10,
   "metadata": {},
   "outputs": [
    {
     "name": "stdout",
     "output_type": "stream",
     "text": [
      "/home/dsc/Data/us_dot/traffic\n",
      "total 22052\n",
      "-rw-rw-r-- 1 dsc dsc 16871101 abr  2  2018 \u001b[0m\u001b[01;31mT100_SEGMENT_ALL_CARRIER_2014.zip\u001b[0m\n",
      "-rw-rw-r-- 1 dsc dsc  5709455 abr  2  2018 \u001b[01;31mT100_SEGMENT_ALL_CARRIER_2015.zip\u001b[0m\n"
     ]
    }
   ],
   "source": [
    "%cd ~/Data/us_dot/traffic\n",
    "%ls -l"
   ]
  },
  {
   "cell_type": "code",
   "execution_count": 29,
   "metadata": {},
   "outputs": [
    {
     "data": {
      "text/plain": [
       "['/home/dsc/Repos/master-data-science/2.',\n",
       " '/home/dsc',\n",
       " '/home/dsc/Data/opentraveldata',\n",
       " '/home/dsc/Data/us_dot/otp',\n",
       " '/home/dsc/Data/us_dot/traffic']"
      ]
     },
     "execution_count": 29,
     "metadata": {},
     "output_type": "execute_result"
    }
   ],
   "source": [
    "# Vemos primero qué contiene el comando dhist (o _dh).\n",
    "\n",
    "_dh"
   ]
  },
  {
   "cell_type": "code",
   "execution_count": 42,
   "metadata": {},
   "outputs": [
    {
     "name": "stdout",
     "output_type": "stream",
     "text": [
      "/home/dsc/Repos/master-data-science/2. 1\n",
      "/home/dsc 26\n",
      "/home/dsc/Data/opentraveldata 14\n",
      "/home/dsc/Data/us_dot/otp 1\n",
      "/home/dsc/Data/us_dot/traffic 2\n"
     ]
    }
   ],
   "source": [
    "for directorio in _dh:\n",
    "    wc  = !(ls -l $directorio | wc -l)\n",
    "    num_lineas = int(wc[0])-1\n",
    "    print(directorio,num_lineas)\n"
   ]
  },
  {
   "cell_type": "code",
   "execution_count": null,
   "metadata": {},
   "outputs": [],
   "source": []
  },
  {
   "cell_type": "markdown",
   "metadata": {},
   "source": [
    "12. Escribe una función que tome como inputs un archivos de texto y un elemento, y que devuelva el número de veces que aparece ese elemento (sin tener en cuenta mayúsculas y minúsculas = case insensitive) dentro del texto. "
   ]
  },
  {
   "cell_type": "code",
   "execution_count": 87,
   "metadata": {},
   "outputs": [],
   "source": [
    "def repeticion_elem(file,elem):\n",
    "    archivo = !cat $file\n",
    "    repeticiones = archivo.spstr.upper().count(elem.upper())\n",
    "    return repeticiones"
   ]
  },
  {
   "cell_type": "code",
   "execution_count": 88,
   "metadata": {},
   "outputs": [
    {
     "data": {
      "text/plain": [
       "3206"
      ]
     },
     "execution_count": 88,
     "metadata": {},
     "output_type": "execute_result"
    }
   ],
   "source": [
    "#!pwd\n",
    "#%cd Data/opentraveldata\n",
    "#%ls -l\n",
    "\n",
    "path = \"/home/dsc/Data/opentraveldata/optd_aircraft.csv\"\n",
    "repeticion_elem(path,\"^\")"
   ]
  },
  {
   "cell_type": "code",
   "execution_count": null,
   "metadata": {},
   "outputs": [],
   "source": []
  },
  {
   "cell_type": "markdown",
   "metadata": {},
   "source": [
    "13. Abre un archivo .txt y haz que las líneas aparezcan en una lista. \n",
    "Borra los espacios en blanco entre líneas. Escribe la lista resultante en el archivo existente. ¿Cuántas líneas tiene el nuevo archivo?"
   ]
  },
  {
   "cell_type": "code",
   "execution_count": 96,
   "metadata": {
    "scrolled": true
   },
   "outputs": [
    {
     "name": "stdout",
     "output_type": "stream",
     "text": [
      "['THIS LINES IS THE 1ST UPPER CASE LINE IN THIS FILE\\n', 'this lines is the 1st lower case line in this file\\n', 'This Line Has All Its First Character Of the Word With Upper Case\\n', '\\n', '\\n', 'Two lines above this are empty-\\n', 'Adnd this is the last line.\\n']\n"
     ]
    },
    {
     "data": {
      "text/plain": [
       "7"
      ]
     },
     "execution_count": 96,
     "metadata": {},
     "output_type": "execute_result"
    }
   ],
   "source": [
    "# Primero tenemos que definir la ruta del archivo que queremos coger.\n",
    "path  = \"/home/dsc/Data/shell/Text2.txt\"\n",
    "\n",
    "# Ahora queremos que las líneas aparezcan en forma de lista.\n",
    "mi_texto = open(path, mode = \"r\")\n",
    "mi_texto.seek(0)               # Para que siempre se coloque al principio\n",
    "mi_lista = mi_texto.readlines()# Convierte las líneas en elementos de una lista\n",
    "\n",
    "print(mi_lista)\n",
    "len(mi_lista)"
   ]
  },
  {
   "cell_type": "code",
   "execution_count": 95,
   "metadata": {},
   "outputs": [
    {
     "name": "stdout",
     "output_type": "stream",
     "text": [
      "['THIS LINES IS THE 1ST UPPER CASE LINE IN THIS FILE\\n', 'this lines is the 1st lower case line in this file\\n', 'This Line Has All Its First Character Of the Word With Upper Case\\n', 'Two lines above this are empty-\\n', 'Adnd this is the last line.\\n']\n"
     ]
    },
    {
     "data": {
      "text/plain": [
       "5"
      ]
     },
     "execution_count": 95,
     "metadata": {},
     "output_type": "execute_result"
    }
   ],
   "source": [
    "# Borramos los espacios en blanco entre líneas.\n",
    "mi_nueva_lista = []\n",
    "for item in mi_lista:\n",
    "    if not item  == \"\\n\":\n",
    "        mi_nueva_lista.append(item)\n",
    "\n",
    "print(mi_nueva_lista)\n",
    "len(mi_nueva_lista)\n"
   ]
  },
  {
   "cell_type": "code",
   "execution_count": 97,
   "metadata": {},
   "outputs": [],
   "source": [
    "# Ahora tenemos que crear un nuevo archivo con esta lista \n",
    "# (igual que el inicial pero con las líneas en blanco borradas).\n",
    "\n",
    "mi_nuevo_txt = open(\"Text2_sinblancos.txt\",\"w\") \n",
    "# El modo \"w\" crea un archivo nuevo (y borra cualquier archivo con este nombre)\n",
    "\n",
    "for item in mi_nueva_lista:\n",
    "    mi_nuevo_txt.writelines(item)\n",
    "\n",
    "mi_nuevo_txt.close()\n"
   ]
  },
  {
   "cell_type": "code",
   "execution_count": 98,
   "metadata": {},
   "outputs": [
    {
     "name": "stdout",
     "output_type": "stream",
     "text": [
      "THIS LINES IS THE 1ST UPPER CASE LINE IN THIS FILE\r\n",
      "this lines is the 1st lower case line in this file\r\n",
      "This Line Has All Its First Character Of the Word With Upper Case\r\n",
      "Two lines above this are empty-\r\n",
      "Adnd this is the last line.\r\n"
     ]
    }
   ],
   "source": [
    "# Comprobamos que el archivos se han escrito bien.\n",
    "!cat Text2_sinblancos.txt"
   ]
  }
 ],
 "metadata": {
  "kernelspec": {
   "display_name": "Python 3",
   "language": "python",
   "name": "python3"
  },
  "language_info": {
   "codemirror_mode": {
    "name": "ipython",
    "version": 3
   },
   "file_extension": ".py",
   "mimetype": "text/x-python",
   "name": "python",
   "nbconvert_exporter": "python",
   "pygments_lexer": "ipython3",
   "version": "3.7.1"
  }
 },
 "nbformat": 4,
 "nbformat_minor": 2
}
